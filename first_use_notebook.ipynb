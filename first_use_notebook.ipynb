{
 "cells": [
  {
   "cell_type": "code",
   "execution_count": 2,
   "metadata": {
    "collapsed": false
   },
   "outputs": [
    {
     "name": "stdout",
     "output_type": "stream",
     "text": [
      "16\n"
     ]
    }
   ],
   "source": [
    "def func1():\n",
    "    sum =  lambda x : x + 2 #定义函数sum(x)=x + 2\n",
    "    sub = lambda x,y: x * y #定义函数sum(x,y)= x * y\n",
    "    return(sum(2) + sub(3,4))\n",
    "print(func1())"
   ]
  },
  {
   "cell_type": "markdown",
   "metadata": {},
   "source": [
    "### insert->markdown \n",
    ">就可以使用Markdown语法了\n",
    "[我的博客](http://wal139491.github.io)"
   ]
  },
  {
   "cell_type": "markdown",
   "metadata": {},
   "source": [
    "### Matplotlib作图"
   ]
  },
  {
   "cell_type": "code",
   "execution_count": 6,
   "metadata": {
    "collapsed": true
   },
   "outputs": [],
   "source": [
    "# -*- coding: utf-8 -*-\n",
    "import numpy as np\n",
    "import matplotlib.pyplot as plt\n",
    "\n",
    "x = np.linspace(0, 10 ,1000) #作图的变量自变量\n",
    "y = np.sin(x) + 1 #因变量 y\n",
    "z = np.cos(x**2) + 1 #因变量 z\n",
    "\n",
    "plt.figure(figsize = (8, 4)) #设置图像的大小\n",
    "plt.plot(x, y, label = '$\\sin x + 1$', color = 'red', linewidth = 2) #作图，设置标签、线条颜色、线条大小\n",
    "plt.plot(x, z, 'b--', label='$\\cos x^2 +1$',color = 'blue') #作图，设置标签、线条类型\n",
    "plt.xlabel('Time(s)' )  # x轴的名称\n",
    "plt.ylabel('Volt' )     # y轴名称\n",
    "plt.title('A Simple Example' ) #标题\n",
    "plt.ylim(0, 2.2) #显示y轴的范围\n",
    "plt.legend() #显示图例\n",
    "plt.show() #显示作图结果"
   ]
  },
  {
   "cell_type": "code",
   "execution_count": null,
   "metadata": {
    "collapsed": true
   },
   "outputs": [],
   "source": []
  }
 ],
 "metadata": {
  "anaconda-cloud": {},
  "kernelspec": {
   "display_name": "Python [Root]",
   "language": "python",
   "name": "Python [Root]"
  },
  "language_info": {
   "codemirror_mode": {
    "name": "ipython",
    "version": 3
   },
   "file_extension": ".py",
   "mimetype": "text/x-python",
   "name": "python",
   "nbconvert_exporter": "python",
   "pygments_lexer": "ipython3",
   "version": "3.5.2"
  }
 },
 "nbformat": 4,
 "nbformat_minor": 0
}
