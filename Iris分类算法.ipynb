{
 "cells": [
  {
   "cell_type": "markdown",
   "metadata": {},
   "source": [
    "### 数据集\n",
    "\n",
    "**鸢尾花数据集两种来源：** \n",
    "1. 使用Python机器学习库(sklearn)的数据集\n",
    "2. UCI 机器学习库(https://archive.ics.uci.edu/ml/machine-learning-databases/iris/iris.data)载入鸢尾花数据集\n",
    "   数据集是.csv格式。"
   ]
  },
  {
   "cell_type": "markdown",
   "metadata": {},
   "source": [
    "### 使用决策树算法对鸢尾花分类\n",
    "\n",
    "#### 分析\n",
    "以sklearn数据集中的鸢尾花卉Iris数据集为例，使用决策树算法对鸢尾花进行分类。\n",
    "\n",
    "鸢尾花卉Iris数据集中有150个样本（示例），4个特征（属性），1个标签（类别变量）。以此150个样本为训练样本得到相应的分类。\n",
    "\n",
    "#### 查看数据集中的内容"
   ]
  },
  {
   "cell_type": "code",
   "execution_count": 8,
   "metadata": {
    "collapsed": false
   },
   "outputs": [
    {
     "name": "stdout",
     "output_type": "stream",
     "text": [
      "<class 'numpy.ndarray'>\n",
      "[[ 5.1  3.5  1.4  0.2]\n",
      " [ 4.9  3.   1.4  0.2]\n",
      " [ 4.7  3.2  1.3  0.2]\n",
      " [ 4.6  3.1  1.5  0.2]\n",
      " [ 5.   3.6  1.4  0.2]]\n",
      "(150, 4)\n",
      "[0 0 0 0 0 0 0 0 0 0 0 0 0 0 0 0 0 0 0 0 0 0 0 0 0 0 0 0 0 0 0 0 0 0 0 0 0\n",
      " 0 0 0 0 0 0 0 0 0 0 0 0 0 1 1 1 1 1 1 1 1 1 1 1 1 1 1 1 1 1 1 1 1 1 1 1 1\n",
      " 1 1 1 1 1 1 1 1 1 1 1 1 1 1 1 1 1 1 1 1 1 1 1 1 1 1 2 2 2 2 2 2 2 2 2 2 2\n",
      " 2 2 2 2 2 2 2 2 2 2 2 2 2 2 2 2 2 2 2 2 2 2 2 2 2 2 2 2 2 2 2 2 2 2 2 2 2\n",
      " 2 2]\n",
      "['setosa' 'versicolor' 'virginica']\n",
      "['sepal length (cm)', 'sepal width (cm)', 'petal length (cm)', 'petal width (cm)']\n"
     ]
    }
   ],
   "source": [
    "# -*- coding= utf-8 -*-\n",
    "from sklearn import datasets\n",
    "# 导入数据集\n",
    "\n",
    "iris = datasets.load_iris()\n",
    "print(type(iris.data))\n",
    "# 切片前5个鸢尾花数据集\n",
    "print((iris.data)[:5])\n",
    "print(iris.data.shape)\n",
    "# 查看鸢尾花数据集的大小\n",
    "print(iris.target)\n",
    "# 查看鸢尾花数据集标签\n",
    "print(iris.target_names)\n",
    "# 查看鸢尾花数据集标签名称（分类名称）\n",
    "print(iris.feature_names)\n",
    "# 显示特征向量\n"
   ]
  },
  {
   "cell_type": "markdown",
   "metadata": {},
   "source": [
    "---\n",
    "#### 结果显示\n",
    "1. iris数据集是一个numpy包中的N维数组对象\n",
    "2. 数据集有150个实例样本，4个数据特征\n",
    "\n",
    "|  | 特征1 |特征2 |特征3 |特征4 |标签 |\n",
    "|--------|--------|--------|--------|--------|--------|\n",
    "|  物理含义 |花萼长度|花萼宽度|花瓣长度|花瓣宽度|鸢尾花种类|\n",
    "|  物理含义 |sepal length (cm)|sepal width (cm)|petal length (cm)|petal width (cm)|class|\n",
    "| 存储形式 |float|float|float|float|float|\n",
    "\n",
    "鸢尾花种类可取值0、1、2，分别代表山鸢尾setosa、变色鸢尾versicolor、维吉尼亚鸢尾virginica。"
   ]
  },
  {
   "cell_type": "markdown",
   "metadata": {},
   "source": [
    "### 训练决策树实现鸢尾花分类\n",
    "\n",
    "#### 决策树算法\n",
    "思想：决策树使用自顶向下的递归方式，在内部节点进行属性值的比较，并根据不同的属性值从该节点向下分支，最终得到的叶节点就是学习划分的类。\n",
    "\n",
    "一般的，决策树使用ID3算法、C4.5算法。ID3核心是在决策树的各级节点上，使用**信息增益**作为属性的选择标准，在非叶结点选择信息增益最大的属性作为测试属性，以生成最小的决策树。C4.5决策树是ID3的改进，使用信息增益率作为属性的选择标准，既能处理离散的描述属性，也能处理连续的描述属性\n",
    "\n",
    ">这里使用sklearn机器学习包中的DecisionTreeClassfier类，实现对鸢尾花数据集的分类。\n",
    "\n",
    "**DecisionTreeClassfier分类**：输入参数为两个数组x_train和y_train,\n",
    "x_train为训练数据，y_train为训练数据的标签(分类)，用于训练分类器。\n",
    "\n",
    "train_test_split():将原始数据集按照一定比例随机分为`x_tarin`和`x_test`.\n",
    "`x_tarin`为训练数据，`x_test`为测试数据，用于测试分类器。\n",
    "\n",
    "好的做法是多次随机划分x_test,x_train,根据y_test的测试结果和本身固有的结果比较来衡量**分类器的好坏**.\n",
    "\n",
    "先只使用第一个和第四个特征进行分类，即sepal length 和petal width。\n",
    "\n",
    "\n",
    "\n",
    "\n",
    "\n",
    "\n",
    "\n",
    "\n",
    "\n",
    "\n",
    "\n",
    "\n",
    "\n"
   ]
  },
  {
   "cell_type": "code",
   "execution_count": 25,
   "metadata": {
    "collapsed": true
   },
   "outputs": [],
   "source": [
    "from sklearn.datasets import load_iris\n",
    "from sklearn import tree\n",
    "from sklearn.cross_validation import train_test_split\n",
    "import numpy as np\n",
    "import matplotlib.pyplot as plt\n"
   ]
  },
  {
   "cell_type": "code",
   "execution_count": 37,
   "metadata": {
    "collapsed": false
   },
   "outputs": [
    {
     "data": {
      "image/png": "[encoded data removed]",
      "text/plain": [
       "<matplotlib.figure.Figure at 0xd78d828>"
      ]
     },
     "metadata": {},
     "output_type": "display_data"
    }
   ],
   "source": [
    "# 设置参数\n",
    "n_classes = 3\n",
    "plot_colors = \"bry\"\n",
    "\n",
    "# 鸢尾花数据集\n",
    "iris = load_iris()\n",
    "\n",
    "# 按照 75%训练数据 25%测试数据划分数据集\n",
    "x_train, x_test, y_train, y_test = train_test_split(iris.data, iris.target, test_size = 0.25)\n",
    "\n",
    "# 训练决策树\n",
    "clf = tree.DecisionTreeClassifier()\n",
    "clf = clf.fit(x_train, y_train)\n",
    "\n",
    "# 测试分类器\n",
    "y_predict = clf.predict(x_test)\n",
    "\n",
    "## 绘图\n",
    "X = x_test[:,0] #对多维数组对象x_test切片第一个特征\n",
    "Y = x_test[:,3] #对多维数组对象x_test切片第三个特征\n",
    "\n",
    "plt.xlabel(iris.feature_names[0])\n",
    "plt.ylabel(iris.feature_names[3])\n",
    "plt.axis(\"tight\")\n",
    "\n",
    "for i, color in zip(range(n_classes), plot_colors):\n",
    "    idx = np.where(y_predict == i)\n",
    "    plt.scatter(X[idx], Y[idx], c=color, label= iris.target_names[i], marker = '+')\n",
    "    plt.axis(\"tight\")\n",
    "    \n",
    "plt.suptitle(\"DecisionTree\")\n",
    "plt.legend()\n",
    "plt.show()\n"
   ]
  },
  {
   "cell_type": "markdown",
   "metadata": {},
   "source": [
    "### 多个特征决策树分类鸢尾花"
   ]
  },
  {
   "cell_type": "code",
   "execution_count": 12,
   "metadata": {
    "collapsed": true
   },
   "outputs": [],
   "source": [
    "import numpy as np\n",
    "from sklearn.datasets import load_iris\n",
    "import matplotlib.pyplot as plt\n",
    "from sklearn.tree import DecisionTreeClassifier"
   ]
  },
  {
   "cell_type": "code",
   "execution_count": 20,
   "metadata": {
    "collapsed": false,
    "scrolled": true
   },
   "outputs": [
    {
     "data": {
      "image/png": "[encoded data removed]",
      "text/plain": [
       "<matplotlib.figure.Figure at 0xc31ce48>"
      ]
     },
     "metadata": {},
     "output_type": "display_data"
    }
   ],
   "source": [
    "%matplotlib inline\n",
    "n_classes = 3\n",
    "plot_colors = \"bry\"\n",
    "plot_steo = 0.02\n",
    "\n",
    "iris= load_iris()\n",
    "\n",
    "for pairidex, pair in enumerate([[0, 1], [0, 2], [0, 3], \n",
    "                                [1, 2], [1, 3], [2, 3]]):\n",
    "    # 每次选择两个特征值\n",
    "    X = iris.data[:,pair]\n",
    "    y = iris.target\n",
    "    # 训练分类器\n",
    "    clf =  DecisionTreeClassifier().fit(X, y)\n",
    "    \n",
    "    # 绘制决策边界\n",
    "    plt.subplot(2,3, pairidex + 1)\n",
    "    \n",
    "    x_min, x_max = X[:, 0].min() - 1, X[:, 0].max() + 1\n",
    "    y_min, y_max = X[:, 1].min() - 1, X[:, 1].max() + 1\n",
    "    xx, yy = np.meshgrid(np.arange(x_min, x_max, plot_step),\n",
    "                         np.arange(y_min, y_max, plot_step))\n",
    "    Z = clf.predict(np.c_[xx.ravel(), yy.ravel()])\n",
    "    Z = Z.reshape(xx.shape)\n",
    "    cs = plt.contourf(xx, yy, Z, cmap=plt.cm.Paired)\n",
    "\n",
    "    plt.xlabel(iris.feature_names[pair[0]])\n",
    "    plt.ylabel(iris.feature_names[pair[1]])\n",
    "    plt.axis(\"tight\")\n",
    "\n",
    "    # 绘制训练点\n",
    "    for i, color in zip(range(n_classes), plot_colors):\n",
    "        idx = np.where(y == i)\n",
    "        plt.scatter(X[idx, 0], X[idx, 1], c=color, label=iris.target_names[i],\n",
    "                    cmap=plt.cm.Paired)\n",
    "\n",
    "        plt.axis(\"tight\")\n",
    "\n",
    "plt.suptitle('多个特征决策树分类鸢尾花')\n",
    "plt.legend()\n",
    "plt.show()"
   ]
  },
  {
   "cell_type": "markdown",
   "metadata": {},
   "source": [
    "### 使用K-均值聚类算法对分类鸢尾花"
   ]
  },
  {
   "cell_type": "code",
   "execution_count": 1,
   "metadata": {
    "collapsed": false,
    "scrolled": true
   },
   "outputs": [],
   "source": [
    "%matplotlib inline\n",
    "import numpy as np\n",
    "import matplotlib.pyplot as plt\n",
    "from mpl_toolkits.mplot3d import Axes3D\n",
    "\n",
    "\n",
    "from sklearn.cluster import KMeans\n",
    "from sklearn import datasets\n",
    "\n",
    "np.random.seed(5)\n",
    "\n",
    "centers = [[1, 1], [-1, -1], [1, -1]]\n",
    "iris = datasets.load_iris()\n",
    "X = iris.data\n",
    "y = iris.target\n",
    "\n",
    "estimators = {'k_means_iris_3': KMeans(n_clusters=3),\n",
    "              'k_means_iris_8': KMeans(n_clusters=8),\n",
    "              'k_means_iris_bad_init': KMeans(n_clusters=3, n_init=1,\n",
    "                                              init='random')}\n",
    "\n",
    "\n",
    "fignum = 1\n",
    "for name, est in estimators.items():\n",
    "    fig = plt.figure(fignum, figsize=(4, 3))\n",
    "    plt.clf()\n",
    "    ax = Axes3D(fig, rect=[0, 0, .95, 1], elev=48, azim=134)\n",
    "\n",
    "    plt.cla()\n",
    "    est.fit(X)\n",
    "    labels = est.labels_\n",
    "\n",
    "    ax.scatter(X[:, 3], X[:, 0], X[:, 2], c=labels.astype(np.float))\n",
    "\n",
    "    ax.w_xaxis.set_ticklabels([])\n",
    "    ax.w_yaxis.set_ticklabels([])\n",
    "    ax.w_zaxis.set_ticklabels([])\n",
    "    ax.set_xlabel('Petal width')\n",
    "    ax.set_ylabel('Sepal length')\n",
    "    ax.set_zlabel('Petal length')\n",
    "    fignum = fignum + 1\n",
    "\n",
    "# 绘制3D坐标轴\n",
    "fig = plt.figure(fignum, figsize=(4, 3))\n",
    "plt.clf()\n",
    "ax = Axes3D(fig, rect=[0, 0, .95, 1], elev=48, azim=134)\n",
    "\n",
    "plt.cla()\n",
    "\n",
    "for name, label in [('Setosa', 0),\n",
    "                    ('Versicolour', 1),\n",
    "                    ('Virginica', 2)]:\n",
    "    ax.text3D(X[y == label, 3].mean(),\n",
    "              X[y == label, 0].mean() + 1.5,\n",
    "              X[y == label, 2].mean(), name,\n",
    "              horizontalalignment='center',\n",
    "              bbox=dict(alpha=.5, edgecolor='w', facecolor='w'))\n",
    "# 为分类结果配色\n",
    "y = np.choose(y, [1, 2, 0]).astype(np.float)\n",
    "ax.scatter(X[:, 3], X[:, 0], X[:, 2], c=y)\n",
    "\n",
    "ax.w_xaxis.set_ticklabels([])\n",
    "ax.w_yaxis.set_ticklabels([])\n",
    "ax.w_zaxis.set_ticklabels([])\n",
    "ax.set_xlabel('Petal width')\n",
    "ax.set_ylabel('Sepal length')\n",
    "ax.set_zlabel('Petal length')\n",
    "plt.show()"
   ]
  },
  {
   "cell_type": "code",
   "execution_count": null,
   "metadata": {
    "collapsed": true
   },
   "outputs": [],
   "source": []
  }
 ],
 "metadata": {
  "anaconda-cloud": {},
  "kernelspec": {
   "display_name": "Python [Root]",
   "language": "python",
   "name": "Python [Root]"
  },
  "language_info": {
   "codemirror_mode": {
    "name": "ipython",
    "version": 3
   },
   "file_extension": ".py",
   "mimetype": "text/x-python",
   "name": "python",
   "nbconvert_exporter": "python",
   "pygments_lexer": "ipython3",
   "version": "3.5.2"
  }
 },
 "nbformat": 4,
 "nbformat_minor": 0
}
