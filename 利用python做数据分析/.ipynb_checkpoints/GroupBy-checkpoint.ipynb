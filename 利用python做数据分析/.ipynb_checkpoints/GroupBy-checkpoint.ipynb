{
 "cells": [
  {
   "cell_type": "code",
   "execution_count": 41,
   "metadata": {
    "collapsed": true
   },
   "outputs": [],
   "source": [
    "import numpy as np\n",
    "from pandas import DataFrame,Series\n",
    "import pandas as pd\n",
    "people = DataFrame(np.random.randn(5,5),\n",
    "                  columns= ['a', 'b', 'c', 'd', 'e'],\n",
    "                  index=['Joe','Steve','Wes','Jim','Travis'])"
   ]
  },
  {
   "cell_type": "code",
   "execution_count": 42,
   "metadata": {
    "collapsed": true
   },
   "outputs": [],
   "source": [
    "people.ix[2:3,['b','c']] = np.nan"
   ]
  },
  {
   "cell_type": "code",
   "execution_count": 43,
   "metadata": {
    "collapsed": false
   },
   "outputs": [
    {
     "data": {
      "text/html": [
       "<div>\n",
       "<table border=\"1\" class=\"dataframe\">\n",
       "  <thead>\n",
       "    <tr style=\"text-align: right;\">\n",
       "      <th></th>\n",
       "      <th>a</th>\n",
       "      <th>b</th>\n",
       "      <th>c</th>\n",
       "      <th>d</th>\n",
       "      <th>e</th>\n",
       "    </tr>\n",
       "  </thead>\n",
       "  <tbody>\n",
       "    <tr>\n",
       "      <th>Joe</th>\n",
       "      <td>0.803784</td>\n",
       "      <td>0.049702</td>\n",
       "      <td>-0.206672</td>\n",
       "      <td>-0.630903</td>\n",
       "      <td>-1.257592</td>\n",
       "    </tr>\n",
       "    <tr>\n",
       "      <th>Steve</th>\n",
       "      <td>-0.757795</td>\n",
       "      <td>-0.293595</td>\n",
       "      <td>0.979305</td>\n",
       "      <td>1.619864</td>\n",
       "      <td>-0.719921</td>\n",
       "    </tr>\n",
       "    <tr>\n",
       "      <th>Wes</th>\n",
       "      <td>0.453408</td>\n",
       "      <td>NaN</td>\n",
       "      <td>NaN</td>\n",
       "      <td>2.691223</td>\n",
       "      <td>0.017689</td>\n",
       "    </tr>\n",
       "    <tr>\n",
       "      <th>Jim</th>\n",
       "      <td>-1.087323</td>\n",
       "      <td>-1.594305</td>\n",
       "      <td>0.534590</td>\n",
       "      <td>-2.586649</td>\n",
       "      <td>-0.236209</td>\n",
       "    </tr>\n",
       "    <tr>\n",
       "      <th>Travis</th>\n",
       "      <td>-0.220119</td>\n",
       "      <td>1.033666</td>\n",
       "      <td>-0.207484</td>\n",
       "      <td>-0.440935</td>\n",
       "      <td>0.804520</td>\n",
       "    </tr>\n",
       "  </tbody>\n",
       "</table>\n",
       "</div>"
      ],
      "text/plain": [
       "               a         b         c         d         e\n",
       "Joe     0.803784  0.049702 -0.206672 -0.630903 -1.257592\n",
       "Steve  -0.757795 -0.293595  0.979305  1.619864 -0.719921\n",
       "Wes     0.453408       NaN       NaN  2.691223  0.017689\n",
       "Jim    -1.087323 -1.594305  0.534590 -2.586649 -0.236209\n",
       "Travis -0.220119  1.033666 -0.207484 -0.440935  0.804520"
      ]
     },
     "execution_count": 43,
     "metadata": {},
     "output_type": "execute_result"
    }
   ],
   "source": [
    "people"
   ]
  },
  {
   "cell_type": "code",
   "execution_count": 44,
   "metadata": {
    "collapsed": true
   },
   "outputs": [],
   "source": [
    "key = ['one','two','one','two','one']"
   ]
  },
  {
   "cell_type": "code",
   "execution_count": 45,
   "metadata": {
    "collapsed": false
   },
   "outputs": [
    {
     "data": {
      "text/plain": [
       "<pandas.core.groupby.DataFrameGroupBy object at 0x00000000158E0438>"
      ]
     },
     "execution_count": 45,
     "metadata": {},
     "output_type": "execute_result"
    }
   ],
   "source": [
    "people.groupby(key)"
   ]
  },
  {
   "cell_type": "code",
   "execution_count": 46,
   "metadata": {
    "collapsed": true
   },
   "outputs": [],
   "source": [
    "def demean(arr):\n",
    "    return arr - arr.mean()"
   ]
  },
  {
   "cell_type": "code",
   "execution_count": 47,
   "metadata": {
    "collapsed": false
   },
   "outputs": [
    {
     "data": {
      "text/html": [
       "<div>\n",
       "<table border=\"1\" class=\"dataframe\">\n",
       "  <thead>\n",
       "    <tr style=\"text-align: right;\">\n",
       "      <th></th>\n",
       "      <th>a</th>\n",
       "      <th>b</th>\n",
       "      <th>c</th>\n",
       "      <th>d</th>\n",
       "      <th>e</th>\n",
       "    </tr>\n",
       "  </thead>\n",
       "  <tbody>\n",
       "    <tr>\n",
       "      <th>Joe</th>\n",
       "      <td>0.458093</td>\n",
       "      <td>-0.491982</td>\n",
       "      <td>0.000406</td>\n",
       "      <td>-1.170698</td>\n",
       "      <td>-1.112464</td>\n",
       "    </tr>\n",
       "    <tr>\n",
       "      <th>Steve</th>\n",
       "      <td>0.164764</td>\n",
       "      <td>0.650355</td>\n",
       "      <td>0.222358</td>\n",
       "      <td>2.103257</td>\n",
       "      <td>-0.241856</td>\n",
       "    </tr>\n",
       "    <tr>\n",
       "      <th>Wes</th>\n",
       "      <td>0.107717</td>\n",
       "      <td>NaN</td>\n",
       "      <td>NaN</td>\n",
       "      <td>2.151428</td>\n",
       "      <td>0.162817</td>\n",
       "    </tr>\n",
       "    <tr>\n",
       "      <th>Jim</th>\n",
       "      <td>-0.164764</td>\n",
       "      <td>-0.650355</td>\n",
       "      <td>-0.222358</td>\n",
       "      <td>-2.103257</td>\n",
       "      <td>0.241856</td>\n",
       "    </tr>\n",
       "    <tr>\n",
       "      <th>Travis</th>\n",
       "      <td>-0.565810</td>\n",
       "      <td>0.491982</td>\n",
       "      <td>-0.000406</td>\n",
       "      <td>-0.980730</td>\n",
       "      <td>0.949648</td>\n",
       "    </tr>\n",
       "  </tbody>\n",
       "</table>\n",
       "</div>"
      ],
      "text/plain": [
       "               a         b         c         d         e\n",
       "Joe     0.458093 -0.491982  0.000406 -1.170698 -1.112464\n",
       "Steve   0.164764  0.650355  0.222358  2.103257 -0.241856\n",
       "Wes     0.107717       NaN       NaN  2.151428  0.162817\n",
       "Jim    -0.164764 -0.650355 -0.222358 -2.103257  0.241856\n",
       "Travis -0.565810  0.491982 -0.000406 -0.980730  0.949648"
      ]
     },
     "execution_count": 47,
     "metadata": {},
     "output_type": "execute_result"
    }
   ],
   "source": [
    "demeaned = people.groupby(key).transform(demean)\n",
    "demeaned"
   ]
  },
  {
   "cell_type": "code",
   "execution_count": 48,
   "metadata": {
    "collapsed": false
   },
   "outputs": [
    {
     "data": {
      "text/html": [
       "<div>\n",
       "<table border=\"1\" class=\"dataframe\">\n",
       "  <thead>\n",
       "    <tr style=\"text-align: right;\">\n",
       "      <th></th>\n",
       "      <th>a</th>\n",
       "      <th>b</th>\n",
       "      <th>c</th>\n",
       "      <th>d</th>\n",
       "      <th>e</th>\n",
       "    </tr>\n",
       "  </thead>\n",
       "  <tbody>\n",
       "    <tr>\n",
       "      <th>one</th>\n",
       "      <td>3.700743e-17</td>\n",
       "      <td>0.000000e+00</td>\n",
       "      <td>0.000000e+00</td>\n",
       "      <td>-7.401487e-17</td>\n",
       "      <td>-3.700743e-17</td>\n",
       "    </tr>\n",
       "    <tr>\n",
       "      <th>two</th>\n",
       "      <td>-5.551115e-17</td>\n",
       "      <td>-5.551115e-17</td>\n",
       "      <td>-5.551115e-17</td>\n",
       "      <td>0.000000e+00</td>\n",
       "      <td>1.387779e-17</td>\n",
       "    </tr>\n",
       "  </tbody>\n",
       "</table>\n",
       "</div>"
      ],
      "text/plain": [
       "                a             b             c             d             e\n",
       "one  3.700743e-17  0.000000e+00  0.000000e+00 -7.401487e-17 -3.700743e-17\n",
       "two -5.551115e-17 -5.551115e-17 -5.551115e-17  0.000000e+00  1.387779e-17"
      ]
     },
     "execution_count": 48,
     "metadata": {},
     "output_type": "execute_result"
    }
   ],
   "source": [
    "demeaned.groupby(key).mean()"
   ]
  },
  {
   "cell_type": "code",
   "execution_count": 49,
   "metadata": {
    "collapsed": false
   },
   "outputs": [
    {
     "data": {
      "text/plain": [
       "(10,)"
      ]
     },
     "execution_count": 49,
     "metadata": {},
     "output_type": "execute_result"
    }
   ],
   "source": [
    "np.random.randn(10).shape"
   ]
  },
  {
   "cell_type": "code",
   "execution_count": 50,
   "metadata": {
    "collapsed": false
   },
   "outputs": [],
   "source": [
    "frame = DataFrame({'data1': np.random.randn(1000),\n",
    "                 'data2':np.random.randn(1000)})\n",
    "factor = pd.cut(frame.data1,4)"
   ]
  },
  {
   "cell_type": "code",
   "execution_count": 51,
   "metadata": {
    "collapsed": false
   },
   "outputs": [],
   "source": [
    "grouped = frame.data2.groupby(factor)"
   ]
  },
  {
   "cell_type": "code",
   "execution_count": 52,
   "metadata": {
    "collapsed": false
   },
   "outputs": [],
   "source": [
    "def get_stats(group):\n",
    "    return {'min':group.min(),'max':group.max(),'count':group.count(),'mean':group.mean()}"
   ]
  },
  {
   "cell_type": "code",
   "execution_count": 53,
   "metadata": {
    "collapsed": false
   },
   "outputs": [
    {
     "data": {
      "text/html": [
       "<div>\n",
       "<table border=\"1\" class=\"dataframe\">\n",
       "  <thead>\n",
       "    <tr style=\"text-align: right;\">\n",
       "      <th></th>\n",
       "      <th>count</th>\n",
       "      <th>max</th>\n",
       "      <th>mean</th>\n",
       "      <th>min</th>\n",
       "    </tr>\n",
       "    <tr>\n",
       "      <th>data1</th>\n",
       "      <th></th>\n",
       "      <th></th>\n",
       "      <th></th>\n",
       "      <th></th>\n",
       "    </tr>\n",
       "  </thead>\n",
       "  <tbody>\n",
       "    <tr>\n",
       "      <th>(-3.0965, -1.248]</th>\n",
       "      <td>87.0</td>\n",
       "      <td>3.105483</td>\n",
       "      <td>0.131260</td>\n",
       "      <td>-1.984361</td>\n",
       "    </tr>\n",
       "    <tr>\n",
       "      <th>(-1.248, 0.592]</th>\n",
       "      <td>651.0</td>\n",
       "      <td>2.903960</td>\n",
       "      <td>0.043067</td>\n",
       "      <td>-2.945757</td>\n",
       "    </tr>\n",
       "    <tr>\n",
       "      <th>(0.592, 2.433]</th>\n",
       "      <td>254.0</td>\n",
       "      <td>2.830690</td>\n",
       "      <td>-0.087478</td>\n",
       "      <td>-2.935232</td>\n",
       "    </tr>\n",
       "    <tr>\n",
       "      <th>(2.433, 4.274]</th>\n",
       "      <td>8.0</td>\n",
       "      <td>1.458528</td>\n",
       "      <td>-0.092864</td>\n",
       "      <td>-1.215707</td>\n",
       "    </tr>\n",
       "  </tbody>\n",
       "</table>\n",
       "</div>"
      ],
      "text/plain": [
       "                   count       max      mean       min\n",
       "data1                                                 \n",
       "(-3.0965, -1.248]   87.0  3.105483  0.131260 -1.984361\n",
       "(-1.248, 0.592]    651.0  2.903960  0.043067 -2.945757\n",
       "(0.592, 2.433]     254.0  2.830690 -0.087478 -2.935232\n",
       "(2.433, 4.274]       8.0  1.458528 -0.092864 -1.215707"
      ]
     },
     "execution_count": 53,
     "metadata": {},
     "output_type": "execute_result"
    }
   ],
   "source": [
    "grouped.apply(get_stats).unstack()"
   ]
  },
  {
   "cell_type": "code",
   "execution_count": 54,
   "metadata": {
    "collapsed": false
   },
   "outputs": [
    {
     "data": {
      "text/html": [
       "<div>\n",
       "<table border=\"1\" class=\"dataframe\">\n",
       "  <thead>\n",
       "    <tr style=\"text-align: right;\">\n",
       "      <th></th>\n",
       "      <th>count</th>\n",
       "      <th>mean</th>\n",
       "      <th>std</th>\n",
       "      <th>min</th>\n",
       "      <th>25%</th>\n",
       "      <th>50%</th>\n",
       "      <th>75%</th>\n",
       "      <th>max</th>\n",
       "    </tr>\n",
       "    <tr>\n",
       "      <th>data1</th>\n",
       "      <th></th>\n",
       "      <th></th>\n",
       "      <th></th>\n",
       "      <th></th>\n",
       "      <th></th>\n",
       "      <th></th>\n",
       "      <th></th>\n",
       "      <th></th>\n",
       "    </tr>\n",
       "  </thead>\n",
       "  <tbody>\n",
       "    <tr>\n",
       "      <th>(-3.0965, -1.248]</th>\n",
       "      <td>87.0</td>\n",
       "      <td>0.131260</td>\n",
       "      <td>1.135720</td>\n",
       "      <td>-1.984361</td>\n",
       "      <td>-0.758745</td>\n",
       "      <td>0.090265</td>\n",
       "      <td>0.789062</td>\n",
       "      <td>3.105483</td>\n",
       "    </tr>\n",
       "    <tr>\n",
       "      <th>(-1.248, 0.592]</th>\n",
       "      <td>651.0</td>\n",
       "      <td>0.043067</td>\n",
       "      <td>0.995496</td>\n",
       "      <td>-2.945757</td>\n",
       "      <td>-0.645235</td>\n",
       "      <td>0.025799</td>\n",
       "      <td>0.701319</td>\n",
       "      <td>2.903960</td>\n",
       "    </tr>\n",
       "    <tr>\n",
       "      <th>(0.592, 2.433]</th>\n",
       "      <td>254.0</td>\n",
       "      <td>-0.087478</td>\n",
       "      <td>0.898838</td>\n",
       "      <td>-2.935232</td>\n",
       "      <td>-0.730796</td>\n",
       "      <td>-0.131050</td>\n",
       "      <td>0.525864</td>\n",
       "      <td>2.830690</td>\n",
       "    </tr>\n",
       "    <tr>\n",
       "      <th>(2.433, 4.274]</th>\n",
       "      <td>8.0</td>\n",
       "      <td>-0.092864</td>\n",
       "      <td>0.823781</td>\n",
       "      <td>-1.215707</td>\n",
       "      <td>-0.376179</td>\n",
       "      <td>-0.008754</td>\n",
       "      <td>0.093634</td>\n",
       "      <td>1.458528</td>\n",
       "    </tr>\n",
       "  </tbody>\n",
       "</table>\n",
       "</div>"
      ],
      "text/plain": [
       "                   count      mean       std       min       25%       50%  \\\n",
       "data1                                                                        \n",
       "(-3.0965, -1.248]   87.0  0.131260  1.135720 -1.984361 -0.758745  0.090265   \n",
       "(-1.248, 0.592]    651.0  0.043067  0.995496 -2.945757 -0.645235  0.025799   \n",
       "(0.592, 2.433]     254.0 -0.087478  0.898838 -2.935232 -0.730796 -0.131050   \n",
       "(2.433, 4.274]       8.0 -0.092864  0.823781 -1.215707 -0.376179 -0.008754   \n",
       "\n",
       "                        75%       max  \n",
       "data1                                  \n",
       "(-3.0965, -1.248]  0.789062  3.105483  \n",
       "(-1.248, 0.592]    0.701319  2.903960  \n",
       "(0.592, 2.433]     0.525864  2.830690  \n",
       "(2.433, 4.274]     0.093634  1.458528  "
      ]
     },
     "execution_count": 54,
     "metadata": {},
     "output_type": "execute_result"
    }
   ],
   "source": [
    "grouped.describe().unstack()"
   ]
  },
  {
   "cell_type": "markdown",
   "metadata": {},
   "source": [
    "### 2012联邦委员会数据"
   ]
  },
  {
   "cell_type": "code",
   "execution_count": 55,
   "metadata": {
    "collapsed": false
   },
   "outputs": [
    {
     "name": "stderr",
     "output_type": "stream",
     "text": [
      "F:\\Anaconda\\lib\\site-packages\\IPython\\core\\interactiveshell.py:2723: DtypeWarning: Columns (6) have mixed types. Specify dtype option on import or set low_memory=False.\n",
      "  interactivity=interactivity, compiler=compiler, result=result)\n"
     ]
    },
    {
     "data": {
      "text/plain": [
       "Index(['cmte_id', 'cand_id', 'cand_nm', 'contbr_nm', 'contbr_city',\n",
       "       'contbr_st', 'contbr_zip', 'contbr_employer', 'contbr_occupation',\n",
       "       'contb_receipt_amt', 'contb_receipt_dt', 'receipt_desc', 'memo_cd',\n",
       "       'memo_text', 'form_tp', 'file_num'],\n",
       "      dtype='object')"
      ]
     },
     "execution_count": 55,
     "metadata": {},
     "output_type": "execute_result"
    }
   ],
   "source": [
    "fec = pd.read_csv('F:\\数据挖掘\\pydata-book\\ch09\\P00000001-ALL.csv')\n",
    "fec.columns"
   ]
  },
  {
   "cell_type": "code",
   "execution_count": 56,
   "metadata": {
    "collapsed": false
   },
   "outputs": [
    {
     "data": {
      "text/plain": [
       "cmte_id                             C00431445\n",
       "cand_id                             P80003338\n",
       "cand_nm                         Obama, Barack\n",
       "contbr_nm                         ELLMAN, IRA\n",
       "contbr_city                             TEMPE\n",
       "contbr_st                                  AZ\n",
       "contbr_zip                          852816719\n",
       "contbr_employer      ARIZONA STATE UNIVERSITY\n",
       "contbr_occupation                   PROFESSOR\n",
       "contb_receipt_amt                          50\n",
       "contb_receipt_dt                    01-DEC-11\n",
       "receipt_desc                              NaN\n",
       "memo_cd                                   NaN\n",
       "memo_text                                 NaN\n",
       "form_tp                                 SA17A\n",
       "file_num                               772372\n",
       "Name: 123456, dtype: object"
      ]
     },
     "execution_count": 56,
     "metadata": {},
     "output_type": "execute_result"
    }
   ],
   "source": [
    "fec.ix[123456]"
   ]
  },
  {
   "cell_type": "code",
   "execution_count": 57,
   "metadata": {
    "collapsed": false
   },
   "outputs": [
    {
     "data": {
      "text/plain": [
       "NEW YORK         25858\n",
       "CHICAGO          16355\n",
       "WASHINGTON       13902\n",
       "HOUSTON          12375\n",
       "LOS ANGELES      11137\n",
       "AUSTIN            8514\n",
       "SAN FRANCISCO     8513\n",
       "SEATTLE           8095\n",
       "ATLANTA           7248\n",
       "DALLAS            7221\n",
       "Name: contbr_city, dtype: int64"
      ]
     },
     "execution_count": 57,
     "metadata": {},
     "output_type": "execute_result"
    }
   ],
   "source": [
    "top_city = fec['contbr_city'].value_counts()[:10]#[-5:]\n",
    "top_city"
   ]
  },
  {
   "cell_type": "code",
   "execution_count": 58,
   "metadata": {
    "collapsed": false
   },
   "outputs": [
    {
     "data": {
      "text/plain": [
       "<matplotlib.axes._subplots.AxesSubplot at 0x2efb1f60>"
      ]
     },
     "execution_count": 58,
     "metadata": {},
     "output_type": "execute_result"
    },
    {
     "data": {
      "image/png": "[encoded data removed]",
      "text/plain": [
       "<matplotlib.figure.Figure at 0x2efb1710>"
      ]
     },
     "metadata": {},
     "output_type": "display_data"
    }
   ],
   "source": [
    "import matplotlib.pyplot as plt\n",
    "%matplotlib inline\n",
    "top_city.plot(title='TOP 10 City in Contribute',kind='bar',alpha=0.7)"
   ]
  },
  {
   "cell_type": "markdown",
   "metadata": {},
   "source": [
    "### 将DataFrame不重复列转换为一个字典"
   ]
  },
  {
   "cell_type": "code",
   "execution_count": 59,
   "metadata": {
    "collapsed": false
   },
   "outputs": [
    {
     "data": {
      "text/plain": [
       "array(['Bachmann, Michelle', 'Romney, Mitt', 'Obama, Barack',\n",
       "       \"Roemer, Charles E. 'Buddy' III\", 'Pawlenty, Timothy',\n",
       "       'Johnson, Gary Earl', 'Paul, Ron', 'Santorum, Rick', 'Cain, Herman',\n",
       "       'Gingrich, Newt', 'McCotter, Thaddeus G', 'Huntsman, Jon',\n",
       "       'Perry, Rick'], dtype=object)"
      ]
     },
     "execution_count": 59,
     "metadata": {},
     "output_type": "execute_result"
    }
   ],
   "source": [
    "unique_cands = fec.cand_nm.unique()\n",
    "unique_cands"
   ]
  },
  {
   "cell_type": "code",
   "execution_count": 60,
   "metadata": {
    "collapsed": false
   },
   "outputs": [
    {
     "data": {
      "text/plain": [
       "(13,)"
      ]
     },
     "execution_count": 60,
     "metadata": {},
     "output_type": "execute_result"
    }
   ],
   "source": [
    "unique_cands.shape"
   ]
  },
  {
   "cell_type": "code",
   "execution_count": 61,
   "metadata": {
    "collapsed": false
   },
   "outputs": [],
   "source": [
    "candi_parties = ['Republican','Democrat']\n",
    "'''\n",
    "for x in unique_cands:\n",
    "    if x != 'Obama, Barack':\n",
    "        parties[x] = candi_parties[0]\n",
    "    else:\n",
    "        parties[x] = candi_parties[1]\n",
    "'''\n",
    "apart = np.where( unique_cands!= unique_cands[2],candi_parties[0],candi_parties[1])\n",
    "parties = dict(zip(unique_cands,apart))"
   ]
  },
  {
   "cell_type": "code",
   "execution_count": 62,
   "metadata": {
    "collapsed": false
   },
   "outputs": [
    {
     "data": {
      "text/plain": [
       "{'Bachmann, Michelle': 'Republican',\n",
       " 'Cain, Herman': 'Republican',\n",
       " 'Gingrich, Newt': 'Republican',\n",
       " 'Huntsman, Jon': 'Republican',\n",
       " 'Johnson, Gary Earl': 'Republican',\n",
       " 'McCotter, Thaddeus G': 'Republican',\n",
       " 'Obama, Barack': 'Democrat',\n",
       " 'Paul, Ron': 'Republican',\n",
       " 'Pawlenty, Timothy': 'Republican',\n",
       " 'Perry, Rick': 'Republican',\n",
       " \"Roemer, Charles E. 'Buddy' III\": 'Republican',\n",
       " 'Romney, Mitt': 'Republican',\n",
       " 'Santorum, Rick': 'Republican'}"
      ]
     },
     "execution_count": 62,
     "metadata": {},
     "output_type": "execute_result"
    }
   ],
   "source": [
    "parties"
   ]
  },
  {
   "cell_type": "code",
   "execution_count": 63,
   "metadata": {
    "collapsed": false
   },
   "outputs": [
    {
     "data": {
      "text/plain": [
       "123456    Democrat\n",
       "123457    Democrat\n",
       "123458    Democrat\n",
       "123459    Democrat\n",
       "123460    Democrat\n",
       "Name: cand_nm, dtype: object"
      ]
     },
     "execution_count": 63,
     "metadata": {},
     "output_type": "execute_result"
    }
   ],
   "source": [
    "fec.cand_nm[123456:123461].map(parties)"
   ]
  },
  {
   "cell_type": "code",
   "execution_count": 64,
   "metadata": {
    "collapsed": false
   },
   "outputs": [
    {
     "data": {
      "text/plain": [
       "Democrat      593746\n",
       "Republican    407985\n",
       "Name: party, dtype: int64"
      ]
     },
     "execution_count": 64,
     "metadata": {},
     "output_type": "execute_result"
    }
   ],
   "source": [
    "# 将其添加一个新列\n",
    "fec['party']=fec.cand_nm.map(parties)\n",
    "fec['party'].value_counts()"
   ]
  },
  {
   "cell_type": "code",
   "execution_count": 65,
   "metadata": {
    "collapsed": false
   },
   "outputs": [],
   "source": [
    "fec = fec[fec['contb_receipt_amt']>0]"
   ]
  },
  {
   "cell_type": "code",
   "execution_count": 66,
   "metadata": {
    "collapsed": true
   },
   "outputs": [],
   "source": [
    "fec_mrbo = fec[fec.cand_nm.isin([unique_cands[1],unique_cands[2]])]"
   ]
  },
  {
   "cell_type": "code",
   "execution_count": 67,
   "metadata": {
    "collapsed": false
   },
   "outputs": [
    {
     "data": {
      "text/plain": [
       "RETIRED                                   233990\n",
       "INFORMATION REQUESTED                      35107\n",
       "ATTORNEY                                   34286\n",
       "HOMEMAKER                                  29931\n",
       "PHYSICIAN                                  23432\n",
       "INFORMATION REQUESTED PER BEST EFFORTS     21138\n",
       "ENGINEER                                   14334\n",
       "TEACHER                                    13990\n",
       "CONSULTANT                                 13273\n",
       "PROFESSOR                                  12555\n",
       "Name: contbr_occupation, dtype: int64"
      ]
     },
     "execution_count": 67,
     "metadata": {},
     "output_type": "execute_result"
    }
   ],
   "source": [
    "fec.contbr_occupation.value_counts()[:10]"
   ]
  },
  {
   "cell_type": "code",
   "execution_count": 68,
   "metadata": {
    "collapsed": true
   },
   "outputs": [],
   "source": [
    "occ_mapping = {'INFORMATION REQUEST PRE BEST EFFORTS':'NOT PROVIDED',\n",
    "              'INFORMATION REQUEST':'NOT PROVIDED',\n",
    "              'INFORMATION REQUEST(BEST EFFORTS)' :'NOT PROVIDED'}\n",
    "\n",
    "# 没有映射关系 返回x\n",
    "f = lambda x : occ_mapping.get(x,x)\n",
    "fec.contbr_occupation = fec.contbr_occupation.map(f)"
   ]
  },
  {
   "cell_type": "code",
   "execution_count": 69,
   "metadata": {
    "collapsed": false
   },
   "outputs": [],
   "source": [
    "by_occupation = fec.pivot_table('contb_receipt_amt',index='contbr_occupation',columns='party',aggfunc='sum')"
   ]
  },
  {
   "cell_type": "code",
   "execution_count": 70,
   "metadata": {
    "collapsed": false
   },
   "outputs": [],
   "source": [
    "over2mm = by_occupation[by_occupation.sum(1)>2000000]"
   ]
  },
  {
   "cell_type": "code",
   "execution_count": 71,
   "metadata": {
    "collapsed": false
   },
   "outputs": [
    {
     "data": {
      "text/html": [
       "<div>\n",
       "<table border=\"1\" class=\"dataframe\">\n",
       "  <thead>\n",
       "    <tr style=\"text-align: right;\">\n",
       "      <th>party</th>\n",
       "      <th>Democrat</th>\n",
       "      <th>Republican</th>\n",
       "    </tr>\n",
       "    <tr>\n",
       "      <th>contbr_occupation</th>\n",
       "      <th></th>\n",
       "      <th></th>\n",
       "    </tr>\n",
       "  </thead>\n",
       "  <tbody>\n",
       "    <tr>\n",
       "      <th>ATTORNEY</th>\n",
       "      <td>11141982.97</td>\n",
       "      <td>7.477194e+06</td>\n",
       "    </tr>\n",
       "    <tr>\n",
       "      <th>C.E.O.</th>\n",
       "      <td>1690.00</td>\n",
       "      <td>2.592983e+06</td>\n",
       "    </tr>\n",
       "    <tr>\n",
       "      <th>CEO</th>\n",
       "      <td>2073284.79</td>\n",
       "      <td>1.618057e+06</td>\n",
       "    </tr>\n",
       "    <tr>\n",
       "      <th>CONSULTANT</th>\n",
       "      <td>2459912.71</td>\n",
       "      <td>2.544725e+06</td>\n",
       "    </tr>\n",
       "    <tr>\n",
       "      <th>ENGINEER</th>\n",
       "      <td>951525.55</td>\n",
       "      <td>1.818374e+06</td>\n",
       "    </tr>\n",
       "    <tr>\n",
       "      <th>EXECUTIVE</th>\n",
       "      <td>1355161.05</td>\n",
       "      <td>4.138850e+06</td>\n",
       "    </tr>\n",
       "    <tr>\n",
       "      <th>HOMEMAKER</th>\n",
       "      <td>4248875.80</td>\n",
       "      <td>1.363428e+07</td>\n",
       "    </tr>\n",
       "    <tr>\n",
       "      <th>INFORMATION REQUESTED</th>\n",
       "      <td>4866973.96</td>\n",
       "      <td>3.896616e+06</td>\n",
       "    </tr>\n",
       "    <tr>\n",
       "      <th>INFORMATION REQUESTED PER BEST EFFORTS</th>\n",
       "      <td>NaN</td>\n",
       "      <td>1.634053e+07</td>\n",
       "    </tr>\n",
       "    <tr>\n",
       "      <th>INVESTOR</th>\n",
       "      <td>884133.00</td>\n",
       "      <td>2.431769e+06</td>\n",
       "    </tr>\n",
       "    <tr>\n",
       "      <th>LAWYER</th>\n",
       "      <td>3160478.87</td>\n",
       "      <td>3.912243e+05</td>\n",
       "    </tr>\n",
       "    <tr>\n",
       "      <th>MANAGER</th>\n",
       "      <td>762883.22</td>\n",
       "      <td>1.444532e+06</td>\n",
       "    </tr>\n",
       "    <tr>\n",
       "      <th>OWNER</th>\n",
       "      <td>1001567.36</td>\n",
       "      <td>2.408287e+06</td>\n",
       "    </tr>\n",
       "    <tr>\n",
       "      <th>PHYSICIAN</th>\n",
       "      <td>3735124.94</td>\n",
       "      <td>3.594320e+06</td>\n",
       "    </tr>\n",
       "    <tr>\n",
       "      <th>PRESIDENT</th>\n",
       "      <td>1878509.95</td>\n",
       "      <td>4.720924e+06</td>\n",
       "    </tr>\n",
       "    <tr>\n",
       "      <th>PROFESSOR</th>\n",
       "      <td>2165071.08</td>\n",
       "      <td>2.967027e+05</td>\n",
       "    </tr>\n",
       "    <tr>\n",
       "      <th>REAL ESTATE</th>\n",
       "      <td>528902.09</td>\n",
       "      <td>1.625902e+06</td>\n",
       "    </tr>\n",
       "    <tr>\n",
       "      <th>RETIRED</th>\n",
       "      <td>25305116.38</td>\n",
       "      <td>2.356124e+07</td>\n",
       "    </tr>\n",
       "    <tr>\n",
       "      <th>SELF-EMPLOYED</th>\n",
       "      <td>672393.40</td>\n",
       "      <td>1.640253e+06</td>\n",
       "    </tr>\n",
       "  </tbody>\n",
       "</table>\n",
       "</div>"
      ],
      "text/plain": [
       "party                                      Democrat    Republican\n",
       "contbr_occupation                                                \n",
       "ATTORNEY                                11141982.97  7.477194e+06\n",
       "C.E.O.                                      1690.00  2.592983e+06\n",
       "CEO                                      2073284.79  1.618057e+06\n",
       "CONSULTANT                               2459912.71  2.544725e+06\n",
       "ENGINEER                                  951525.55  1.818374e+06\n",
       "EXECUTIVE                                1355161.05  4.138850e+06\n",
       "HOMEMAKER                                4248875.80  1.363428e+07\n",
       "INFORMATION REQUESTED                    4866973.96  3.896616e+06\n",
       "INFORMATION REQUESTED PER BEST EFFORTS          NaN  1.634053e+07\n",
       "INVESTOR                                  884133.00  2.431769e+06\n",
       "LAWYER                                   3160478.87  3.912243e+05\n",
       "MANAGER                                   762883.22  1.444532e+06\n",
       "OWNER                                    1001567.36  2.408287e+06\n",
       "PHYSICIAN                                3735124.94  3.594320e+06\n",
       "PRESIDENT                                1878509.95  4.720924e+06\n",
       "PROFESSOR                                2165071.08  2.967027e+05\n",
       "REAL ESTATE                               528902.09  1.625902e+06\n",
       "RETIRED                                 25305116.38  2.356124e+07\n",
       "SELF-EMPLOYED                             672393.40  1.640253e+06"
      ]
     },
     "execution_count": 71,
     "metadata": {},
     "output_type": "execute_result"
    }
   ],
   "source": [
    "over2mm"
   ]
  },
  {
   "cell_type": "code",
   "execution_count": 72,
   "metadata": {
    "collapsed": false
   },
   "outputs": [
    {
     "data": {
      "text/plain": [
       "<matplotlib.axes._subplots.AxesSubplot at 0x1dd47a58>"
      ]
     },
     "execution_count": 72,
     "metadata": {},
     "output_type": "execute_result"
    },
    {
     "data": {
      "image/png": "[encoded data removed]",
      "text/plain": [
       "<matplotlib.figure.Figure at 0x2ed1a0b8>"
      ]
     },
     "metadata": {},
     "output_type": "display_data"
    }
   ],
   "source": [
    "over2mm.plot(kind='barh',alpha=0.7)"
   ]
  },
  {
   "cell_type": "markdown",
   "metadata": {
    "collapsed": true
   },
   "source": [
    "### 对Obama和Romney出资金额高的职业或企业"
   ]
  },
  {
   "cell_type": "code",
   "execution_count": 94,
   "metadata": {
    "collapsed": true
   },
   "outputs": [],
   "source": [
    "def get_amounts(group, key):\n",
    "    totals = group.groupby(key)['contb_receipt_amt'].sum()\n",
    "    return totals.sort_values(ascending= False)[:5]"
   ]
  },
  {
   "cell_type": "code",
   "execution_count": 95,
   "metadata": {
    "collapsed": false
   },
   "outputs": [
    {
     "data": {
      "text/plain": [
       "Index(['cmte_id', 'cand_id', 'cand_nm', 'contbr_nm', 'contbr_city',\n",
       "       'contbr_st', 'contbr_zip', 'contbr_employer', 'contbr_occupation',\n",
       "       'contb_receipt_amt', 'contb_receipt_dt', 'receipt_desc', 'memo_cd',\n",
       "       'memo_text', 'form_tp', 'file_num', 'party'],\n",
       "      dtype='object')"
      ]
     },
     "execution_count": 95,
     "metadata": {},
     "output_type": "execute_result"
    }
   ],
   "source": [
    "fec_mrbo.columns"
   ]
  },
  {
   "cell_type": "code",
   "execution_count": 112,
   "metadata": {
    "collapsed": false
   },
   "outputs": [
    {
     "data": {
      "text/plain": [
       "cand_nm        contbr_occupation                     \n",
       "Obama, Barack  PROFESSOR                                 2165071.08\n",
       "               CEO                                       2073284.79\n",
       "               PRESIDENT                                 1878509.95\n",
       "               NOT EMPLOYED                              1709188.20\n",
       "               EXECUTIVE                                 1355161.05\n",
       "               TEACHER                                   1250969.15\n",
       "               WRITER                                    1084188.88\n",
       "               OWNER                                     1001567.36\n",
       "               ENGINEER                                   951525.55\n",
       "               INVESTOR                                   884133.00\n",
       "               ARTIST                                     763125.00\n",
       "               MANAGER                                    762883.22\n",
       "               SELF-EMPLOYED                              672393.40\n",
       "               STUDENT                                    628099.75\n",
       "               REAL ESTATE                                528902.09\n",
       "               CHAIRMAN                                   496547.00\n",
       "               ARCHITECT                                  483859.89\n",
       "               DIRECTOR                                   471741.73\n",
       "               BUSINESS OWNER                             449979.30\n",
       "               EDUCATOR                                   436600.89\n",
       "               PSYCHOLOGIST                               427299.92\n",
       "               SOFTWARE ENGINEER                          396985.65\n",
       "               PARTNER                                    395759.50\n",
       "               SALES                                      392886.91\n",
       "               EXECUTIVE DIRECTOR                         348180.94\n",
       "               MANAGING DIRECTOR                          329688.25\n",
       "               SOCIAL WORKER                              326844.43\n",
       "               VICE PRESIDENT                             325647.15\n",
       "               ADMINISTRATOR                              323079.26\n",
       "               SCIENTIST                                  319227.88\n",
       "                                                            ...    \n",
       "Romney, Mitt   NON-PROFIT VETERANS ORG. CHAIR/ANNUITA         10.00\n",
       "               PARAPLANNER                                    10.00\n",
       "               APPRAISAL                                      10.00\n",
       "               SIGN CONTRACTOR                                10.00\n",
       "               POLITICAL OPERATIVE                            10.00\n",
       "               PORT MGT                                       10.00\n",
       "               PRESIDENT EMERITUS                             10.00\n",
       "               CONTRACTS SPECIALIST                            9.00\n",
       "               TEACHER & FREE-LANCE JOURNALIST                 9.00\n",
       "               FOUNDATION CONSULTANT                           6.00\n",
       "               MAIL HANDLER                                    6.00\n",
       "               TREASURER & DIRECTOR OF FINANCE                 6.00\n",
       "               SECRETARY/BOOKKEPPER                            6.00\n",
       "               ELAYNE WELLS HARMER                             6.00\n",
       "               CHICKEN GRADER                                  5.00\n",
       "               DIRECTOR REISCHAUER CENTER FOR EAST A           5.00\n",
       "               SCOTT GREENBAUM                                 5.00\n",
       "               EDUCATION ADMIN                                 5.00\n",
       "               ENGINEER/RISK EXPERT                            5.00\n",
       "               PLANNING AND OPERATIONS ANALYST                 5.00\n",
       "               VILLA NOVA                                      5.00\n",
       "               FINANCIAL INSTITUTION - CEO                     5.00\n",
       "               HORTICULTURIST                                  5.00\n",
       "               MD - UROLOGIST                                  5.00\n",
       "               DISTRICT REPRESENTATIVE                         5.00\n",
       "               INDEPENDENT PROFESSIONAL                        3.00\n",
       "               REMODELER & SEMI RETIRED                        3.00\n",
       "               AFFORDABLE REAL ESTATE DEVELOPER                3.00\n",
       "               IFC CONTRACTING SOLUTIONS                       3.00\n",
       "               3RD GENERATION FAMILY BUSINESS OWNER            3.00\n",
       "Name: contb_receipt_amt, dtype: float64"
      ]
     },
     "execution_count": 112,
     "metadata": {},
     "output_type": "execute_result"
    }
   ],
   "source": [
    "# 根据职业进行聚合\n",
    "\n",
    "grouped = fec_mrbo.groupby('cand_nm')\n",
    "grouped.apply(get_top_amounts, 'contbr_occupation', n=7)"
   ]
  },
  {
   "cell_type": "code",
   "execution_count": 90,
   "metadata": {
    "collapsed": false
   },
   "outputs": [
    {
     "data": {
      "text/plain": [
       "cand_nm        contbr_employer                \n",
       "Obama, Barack  SIDLEY AUSTIN LLP                  168254.00\n",
       "               REFUSED                            149516.07\n",
       "               DLA PIPER                          148235.00\n",
       "               HARVARD UNIVERSITY                 131368.94\n",
       "               IBM                                128490.93\n",
       "               GOOGLE                             125302.88\n",
       "               MICROSOFT CORPORATION              108849.00\n",
       "               KAISER PERMANENTE                  104949.95\n",
       "               JONES DAY                          103712.50\n",
       "               STANFORD UNIVERSITY                101630.75\n",
       "               COLUMBIA UNIVERSITY                 96325.12\n",
       "               UNIVERSITY OF CHICAGO               88575.00\n",
       "               AT&T                                88132.12\n",
       "               US GOVERNMENT                       87689.00\n",
       "               MORGAN & MORGAN                     87250.00\n",
       "               VERIZON                             85318.30\n",
       "               UNIVERSITY OF MICHIGAN              84856.33\n",
       "               DISABLED                            78417.87\n",
       "               UCLA                                78092.50\n",
       "               ARNOLD & PORTER LLP                 76330.00\n",
       "               OBAMA FOR AMERICA                   72028.89\n",
       "               UNIVERSITY OF WASHINGTON            70445.86\n",
       "               NORTHWESTERN UNIVERSITY             69489.05\n",
       "               DEPARTMENT OF DEFENSE               67253.40\n",
       "               COMCAST                             65158.00\n",
       "               US ARMY                             64768.91\n",
       "               FEDERAL GOVERNMENT                  64590.26\n",
       "               WELLS FARGO                         62749.60\n",
       "               UNIVERSITY OF CALIFORNIA            62432.00\n",
       "               SKADDEN ARPS                        61904.00\n",
       "                                                    ...    \n",
       "Romney, Mitt   SMILE MANAGEMENT                        6.00\n",
       "               ENERGY ALLOYS                           6.00\n",
       "               MORGAN STANLEY SMITH BARNEY LLC         5.00\n",
       "               PEACE FROGS INC.                        5.00\n",
       "               LEGACY SCHOOL                           5.00\n",
       "               APPLIANCE INSTALLATIONS INC.            5.00\n",
       "               PAULA HAWKINS & ASSOCIATES              5.00\n",
       "               VILLA NOVA FINANCING GROUP LLC          5.00\n",
       "               PICKET FENCES INC.                      5.00\n",
       "               AA FLIPPEN ASSOCIATES                   5.00\n",
       "               PLUM HEALTHCARE                         5.00\n",
       "               SCOTT GREENBAUM                         5.00\n",
       "               GOLDIE'S SALON                          5.00\n",
       "               PACIFIC BIOSCIENCES                     5.00\n",
       "               LEAVITT INSURANCE AGENCY                5.00\n",
       "               INTERSTELLAR HOLDINGS LLC               5.00\n",
       "               CA STATE SENATE                         5.00\n",
       "               R. A. RAUCH & ASSOCIATES                5.00\n",
       "               RST GLOBAL LICENSING LLC                5.00\n",
       "               SAIS/JOHNS HOPKINS UNIVERSITY           5.00\n",
       "               EASTHAM CAPITAL                         5.00\n",
       "               GREGORY GALLIVAN                        5.00\n",
       "               DIRECT LENDERS LLC                      5.00\n",
       "               LOUGH INVESTMENT ADVISORY LLC           4.00\n",
       "               WATERWORKS INDUSRTIES                   3.00\n",
       "               WILL MERRIFIELD                         3.00\n",
       "               HONOLD COMMUNICTAIONS                   3.00\n",
       "               INDEPENDENT PROFESSIONAL                3.00\n",
       "               UPTOWN CHEAPSKATE                       3.00\n",
       "               UN                                      3.00\n",
       "Name: contb_receipt_amt, dtype: float64"
      ]
     },
     "execution_count": 90,
     "metadata": {},
     "output_type": "execute_result"
    }
   ],
   "source": [
    "grouped.apply(get_top_amounts, 'contbr_employer', n=10)"
   ]
  },
  {
   "cell_type": "code",
   "execution_count": 101,
   "metadata": {
    "collapsed": true
   },
   "outputs": [],
   "source": [
    "bins = np.array([0,1,10,100,1000,10000,100000,1000000,10000000])"
   ]
  },
  {
   "cell_type": "code",
   "execution_count": 102,
   "metadata": {
    "collapsed": true
   },
   "outputs": [],
   "source": [
    "labels = pd.cut(fec_mrbo.contb_receipt_amt, bins)"
   ]
  },
  {
   "cell_type": "code",
   "execution_count": 103,
   "metadata": {
    "collapsed": false
   },
   "outputs": [
    {
     "data": {
      "text/plain": [
       "411           (10, 100]\n",
       "412         (100, 1000]\n",
       "413         (100, 1000]\n",
       "414           (10, 100]\n",
       "415           (10, 100]\n",
       "416           (10, 100]\n",
       "417         (100, 1000]\n",
       "418           (10, 100]\n",
       "419         (100, 1000]\n",
       "420           (10, 100]\n",
       "421           (10, 100]\n",
       "422         (100, 1000]\n",
       "423         (100, 1000]\n",
       "424         (100, 1000]\n",
       "425         (100, 1000]\n",
       "426         (100, 1000]\n",
       "427       (1000, 10000]\n",
       "428         (100, 1000]\n",
       "429         (100, 1000]\n",
       "430           (10, 100]\n",
       "431       (1000, 10000]\n",
       "432         (100, 1000]\n",
       "433         (100, 1000]\n",
       "434         (100, 1000]\n",
       "435         (100, 1000]\n",
       "436         (100, 1000]\n",
       "437           (10, 100]\n",
       "438         (100, 1000]\n",
       "439         (100, 1000]\n",
       "440           (10, 100]\n",
       "              ...      \n",
       "701356        (10, 100]\n",
       "701357          (1, 10]\n",
       "701358        (10, 100]\n",
       "701359        (10, 100]\n",
       "701360        (10, 100]\n",
       "701361        (10, 100]\n",
       "701362      (100, 1000]\n",
       "701363        (10, 100]\n",
       "701364        (10, 100]\n",
       "701365        (10, 100]\n",
       "701366        (10, 100]\n",
       "701367        (10, 100]\n",
       "701368      (100, 1000]\n",
       "701369        (10, 100]\n",
       "701370        (10, 100]\n",
       "701371        (10, 100]\n",
       "701372        (10, 100]\n",
       "701373        (10, 100]\n",
       "701374        (10, 100]\n",
       "701375        (10, 100]\n",
       "701376    (1000, 10000]\n",
       "701377        (10, 100]\n",
       "701378        (10, 100]\n",
       "701379      (100, 1000]\n",
       "701380    (1000, 10000]\n",
       "701381        (10, 100]\n",
       "701382      (100, 1000]\n",
       "701383          (1, 10]\n",
       "701384        (10, 100]\n",
       "701385      (100, 1000]\n",
       "Name: contb_receipt_amt, dtype: category\n",
       "Categories (8, object): [(0, 1] < (1, 10] < (10, 100] < (100, 1000] < (1000, 10000] < (10000, 100000] < (100000, 1000000] < (1000000, 10000000]]"
      ]
     },
     "execution_count": 103,
     "metadata": {},
     "output_type": "execute_result"
    }
   ],
   "source": [
    "labels"
   ]
  },
  {
   "cell_type": "code",
   "execution_count": 104,
   "metadata": {
    "collapsed": true
   },
   "outputs": [],
   "source": [
    "grouped = fec_mrbo.groupby(['cand_nm', labels])"
   ]
  },
  {
   "cell_type": "code",
   "execution_count": 108,
   "metadata": {
    "collapsed": false
   },
   "outputs": [
    {
     "data": {
      "text/html": [
       "<div>\n",
       "<table border=\"1\" class=\"dataframe\">\n",
       "  <thead>\n",
       "    <tr style=\"text-align: right;\">\n",
       "      <th>cand_nm</th>\n",
       "      <th>Obama, Barack</th>\n",
       "      <th>Romney, Mitt</th>\n",
       "    </tr>\n",
       "    <tr>\n",
       "      <th>contb_receipt_amt</th>\n",
       "      <th></th>\n",
       "      <th></th>\n",
       "    </tr>\n",
       "  </thead>\n",
       "  <tbody>\n",
       "    <tr>\n",
       "      <th>(0, 1]</th>\n",
       "      <td>493.0</td>\n",
       "      <td>77.0</td>\n",
       "    </tr>\n",
       "    <tr>\n",
       "      <th>(1, 10]</th>\n",
       "      <td>40070.0</td>\n",
       "      <td>3681.0</td>\n",
       "    </tr>\n",
       "    <tr>\n",
       "      <th>(10, 100]</th>\n",
       "      <td>372280.0</td>\n",
       "      <td>31853.0</td>\n",
       "    </tr>\n",
       "    <tr>\n",
       "      <th>(100, 1000]</th>\n",
       "      <td>153991.0</td>\n",
       "      <td>43357.0</td>\n",
       "    </tr>\n",
       "    <tr>\n",
       "      <th>(1000, 10000]</th>\n",
       "      <td>22284.0</td>\n",
       "      <td>26186.0</td>\n",
       "    </tr>\n",
       "    <tr>\n",
       "      <th>(10000, 100000]</th>\n",
       "      <td>2.0</td>\n",
       "      <td>1.0</td>\n",
       "    </tr>\n",
       "    <tr>\n",
       "      <th>(100000, 1000000]</th>\n",
       "      <td>3.0</td>\n",
       "      <td>NaN</td>\n",
       "    </tr>\n",
       "    <tr>\n",
       "      <th>(1000000, 10000000]</th>\n",
       "      <td>4.0</td>\n",
       "      <td>NaN</td>\n",
       "    </tr>\n",
       "  </tbody>\n",
       "</table>\n",
       "</div>"
      ],
      "text/plain": [
       "cand_nm              Obama, Barack  Romney, Mitt\n",
       "contb_receipt_amt                               \n",
       "(0, 1]                       493.0          77.0\n",
       "(1, 10]                    40070.0        3681.0\n",
       "(10, 100]                 372280.0       31853.0\n",
       "(100, 1000]               153991.0       43357.0\n",
       "(1000, 10000]              22284.0       26186.0\n",
       "(10000, 100000]                2.0           1.0\n",
       "(100000, 1000000]              3.0           NaN\n",
       "(1000000, 10000000]            4.0           NaN"
      ]
     },
     "execution_count": 108,
     "metadata": {},
     "output_type": "execute_result"
    }
   ],
   "source": [
    "grouped.size().unstack(0)"
   ]
  },
  {
   "cell_type": "code",
   "execution_count": null,
   "metadata": {
    "collapsed": true
   },
   "outputs": [],
   "source": []
  }
 ],
 "metadata": {
  "anaconda-cloud": {},
  "kernelspec": {
   "display_name": "Python [Root]",
   "language": "python",
   "name": "Python [Root]"
  },
  "language_info": {
   "codemirror_mode": {
    "name": "ipython",
    "version": 3
   },
   "file_extension": ".py",
   "mimetype": "text/x-python",
   "name": "python",
   "nbconvert_exporter": "python",
   "pygments_lexer": "ipython3",
   "version": "3.5.2"
  }
 },
 "nbformat": 4,
 "nbformat_minor": 0
}
