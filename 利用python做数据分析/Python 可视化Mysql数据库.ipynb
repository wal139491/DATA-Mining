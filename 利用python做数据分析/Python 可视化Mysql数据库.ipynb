{
 "cells": [
  {
   "cell_type": "code",
   "execution_count": 28,
   "metadata": {
    "collapsed": false
   },
   "outputs": [],
   "source": [
    "import pymysql.cursors\n",
    "import pandas as pd\n",
    "import plotly.plotly as py\n",
    "import plotly\n",
    "from plotly.graph_objs import *\n",
    "plotly.tools.set_credentials_file(username='walsky', api_key='MAJewRCxpcPsovPrsBvU')\n",
    "\n",
    "py.sign_in(\"walsky\", \"MAJewRCxpcPsovPrsBvU\")"
   ]
  },
  {
   "cell_type": "code",
   "execution_count": 29,
   "metadata": {
    "collapsed": true
   },
   "outputs": [],
   "source": [
    "py.sign_in?"
   ]
  },
  {
   "cell_type": "code",
   "execution_count": 30,
   "metadata": {
    "collapsed": false
   },
   "outputs": [],
   "source": [
    "# 连接mysql\n",
    "\n",
    "connection = pymysql.connect(host = 'localhost',\n",
    "                             user = 'walsky',\n",
    "                             password = 'wal139491007',\n",
    "                             db = 'world',\n",
    "                             charset='utf8mb4',\n",
    "                             cursorclass = pymysql.cursors.DictCursor\n",
    "                             )\n",
    "try:\n",
    "    with connection.cursor() as cursor:\n",
    "        sql = 'select Name, Continent, Population, LifeExpectancy, GNP from Country'\n",
    "        cursor.execute(sql)\n",
    "        result = cursor.fetchall()\n",
    "finally:\n",
    "    connection.close()"
   ]
  },
  {
   "cell_type": "code",
   "execution_count": 31,
   "metadata": {
    "collapsed": false
   },
   "outputs": [
    {
     "name": "stdout",
     "output_type": "stream",
     "text": [
      "<class 'list'>\n"
     ]
    }
   ],
   "source": [
    "print(type(result))"
   ]
  },
  {
   "cell_type": "code",
   "execution_count": 32,
   "metadata": {
    "collapsed": true
   },
   "outputs": [],
   "source": [
    "df1 = pd.DataFrame(result)"
   ]
  },
  {
   "cell_type": "code",
   "execution_count": 33,
   "metadata": {
    "collapsed": false
   },
   "outputs": [
    {
     "data": {
      "text/plain": [
       "Index(['Continent', 'GNP', 'LifeExpectancy', 'Name', 'Population'], dtype='object')"
      ]
     },
     "execution_count": 33,
     "metadata": {},
     "output_type": "execute_result"
    }
   ],
   "source": [
    "df1.columns"
   ]
  },
  {
   "cell_type": "code",
   "execution_count": 34,
   "metadata": {
    "collapsed": false
   },
   "outputs": [],
   "source": [
    "df = pd.DataFrame( result )\n",
    "df = df[['Name','Continent','Population','LifeExpectancy','GNP']]\n",
    "df = df.sort_values(['LifeExpectancy'],ascending=[1])"
   ]
  },
  {
   "cell_type": "code",
   "execution_count": 35,
   "metadata": {
    "collapsed": false
   },
   "outputs": [
    {
     "data": {
      "text/html": [
       "<div>\n",
       "<table border=\"1\" class=\"dataframe\">\n",
       "  <thead>\n",
       "    <tr style=\"text-align: right;\">\n",
       "      <th></th>\n",
       "      <th>Name</th>\n",
       "      <th>Continent</th>\n",
       "      <th>Population</th>\n",
       "      <th>LifeExpectancy</th>\n",
       "      <th>GNP</th>\n",
       "    </tr>\n",
       "  </thead>\n",
       "  <tbody>\n",
       "    <tr>\n",
       "      <th>237</th>\n",
       "      <td>Zambia</td>\n",
       "      <td>Africa</td>\n",
       "      <td>9169000</td>\n",
       "      <td>37.2</td>\n",
       "      <td>3377.0</td>\n",
       "    </tr>\n",
       "    <tr>\n",
       "      <th>143</th>\n",
       "      <td>Mozambique</td>\n",
       "      <td>Africa</td>\n",
       "      <td>19680000</td>\n",
       "      <td>37.5</td>\n",
       "      <td>2891.0</td>\n",
       "    </tr>\n",
       "    <tr>\n",
       "      <th>148</th>\n",
       "      <td>Malawi</td>\n",
       "      <td>Africa</td>\n",
       "      <td>10925000</td>\n",
       "      <td>37.6</td>\n",
       "      <td>1687.0</td>\n",
       "    </tr>\n",
       "    <tr>\n",
       "      <th>238</th>\n",
       "      <td>Zimbabwe</td>\n",
       "      <td>Africa</td>\n",
       "      <td>11669000</td>\n",
       "      <td>37.8</td>\n",
       "      <td>5951.0</td>\n",
       "    </tr>\n",
       "    <tr>\n",
       "      <th>2</th>\n",
       "      <td>Angola</td>\n",
       "      <td>Africa</td>\n",
       "      <td>12878000</td>\n",
       "      <td>38.3</td>\n",
       "      <td>6648.0</td>\n",
       "    </tr>\n",
       "  </tbody>\n",
       "</table>\n",
       "</div>"
      ],
      "text/plain": [
       "           Name Continent  Population  LifeExpectancy     GNP\n",
       "237      Zambia    Africa     9169000            37.2  3377.0\n",
       "143  Mozambique    Africa    19680000            37.5  2891.0\n",
       "148      Malawi    Africa    10925000            37.6  1687.0\n",
       "238    Zimbabwe    Africa    11669000            37.8  5951.0\n",
       "2        Angola    Africa    12878000            38.3  6648.0"
      ]
     },
     "execution_count": 35,
     "metadata": {},
     "output_type": "execute_result"
    }
   ],
   "source": [
    "df.head()"
   ]
  },
  {
   "cell_type": "code",
   "execution_count": 36,
   "metadata": {
    "collapsed": false
   },
   "outputs": [
    {
     "data": {
      "text/plain": [
       "Index(['Name', 'Continent', 'Population', 'LifeExpectancy', 'GNP'], dtype='object')"
      ]
     },
     "execution_count": 36,
     "metadata": {},
     "output_type": "execute_result"
    }
   ],
   "source": [
    "df.columns"
   ]
  },
  {
   "cell_type": "code",
   "execution_count": 37,
   "metadata": {
    "collapsed": false
   },
   "outputs": [],
   "source": [
    "country_names = df['Name']"
   ]
  },
  {
   "cell_type": "code",
   "execution_count": 39,
   "metadata": {
    "collapsed": false
   },
   "outputs": [
    {
     "name": "stdout",
     "output_type": "stream",
     "text": [
      "High five! You successfuly sent some data to your account on plotly. View your plot in your browser at https://plot.ly/~walsky/0 or inside your plot.ly account where it is named 'world GNP vs life expectancy'\n"
     ]
    },
    {
     "data": {
      "text/html": [
       "<iframe id=\"igraph\" scrolling=\"no\" style=\"border:none;\" seamless=\"seamless\" src=\"https://plot.ly/~walsky/0.embed\" height=\"525px\" width=\"100%\"></iframe>"
      ],
      "text/plain": [
       "<plotly.tools.PlotlyDisplay object>"
      ]
     },
     "execution_count": 39,
     "metadata": {},
     "output_type": "execute_result"
    }
   ],
   "source": [
    "trace1 = Scatter(\n",
    "    x=df['GNP'],\n",
    "    y=df['LifeExpectancy'],\n",
    "    text=country_names,\n",
    "    mode='markers'\n",
    ")\n",
    "layout = Layout(\n",
    "    title='Life expectancy vs GNP from MySQL world database',\n",
    "    xaxis=XAxis( type='log', title='GNP' ),\n",
    "    yaxis=YAxis( title='Life expectancy' ),\n",
    ")\n",
    "data = Data([trace1])\n",
    "fig = Figure(data=data, layout=layout)\n",
    "py.iplot(fig, filename='world GNP vs life expectancy')"
   ]
  },
  {
   "cell_type": "code",
   "execution_count": 41,
   "metadata": {
    "collapsed": false
   },
   "outputs": [
    {
     "name": "stdout",
     "output_type": "stream",
     "text": [
      "<class 'pandas.core.series.Series'>\n"
     ]
    }
   ],
   "source": [
    "size = df['Population']\n",
    "print(type(size))"
   ]
  },
  {
   "cell_type": "code",
   "execution_count": 49,
   "metadata": {
    "collapsed": false
   },
   "outputs": [
    {
     "data": {
      "text/html": [
       "<iframe id=\"igraph\" scrolling=\"no\" style=\"border:none;\" seamless=\"seamless\" src=\"https://plot.ly/~walsky/2.embed\" height=\"525px\" width=\"100%\"></iframe>"
      ],
      "text/plain": [
       "<plotly.tools.PlotlyDisplay object>"
      ]
     },
     "execution_count": 49,
     "metadata": {},
     "output_type": "execute_result"
    }
   ],
   "source": [
    "sizemode = 'area'\n",
    "# 设置size为area代替diameter（直径），这样显得气泡图更大\n",
    "sizeref=df['Population'].max()/1e2**2\n",
    "# 最大气泡区域将在100像素的量级\n",
    "\n",
    "\n",
    "colors = {\n",
    "    'Asia':\"rgb(255,65,54)\",\n",
    "    'Europe':\"rgb(133,20,75)\",\n",
    "    'Africa':\"rgb(255, 244, 53)\",\n",
    "    'North America':\"rgb(255,133,27)\",\n",
    "    'South America':\"rgb(23,190,207)\",\n",
    "    'Antarctica':\"rgb(61,152,112)\",\n",
    "    'Oceania':\"rgb(255,220,0)\",\n",
    "}\n",
    "\n",
    "# 定义一个鼠标悬停产生字体函数\n",
    "def make_text(X):\n",
    "    return 'Country: %s\\\n",
    "    <br>Life Expectancy: %s years\\\n",
    "    <br>Population: %s million'\\\n",
    "    % (X['Name'], X['LifeExpectancy'], X['Population']/1e6)\n",
    "\n",
    "# 定义一个足记函数 返回Scatter对象re\n",
    "\n",
    "def make_trace(X, continent, sizes, color):\n",
    "    return Scatter(x =X['GNP'], #GNO on the x-xaxis\n",
    "                  y = X['LifeExpectancy'],\n",
    "                  name=continent, # hover时的大陆名\n",
    "                  mode = 'makers',\n",
    "                  text=X.apply(make_text, axis=1).tolist(),\n",
    "                  marker =Marker(color = color,\n",
    "                              size = sizes, # make size ,size is list\n",
    "                              sizeref = sizeref,\n",
    "                              sizemode = sizemode,\n",
    "                              opacity = 0.6,\n",
    "                              line = Line(width=3,color=\"white\")# borders\n",
    "                              ))\n",
    "# 初始化Data对象\n",
    "data = Data()\n",
    "\n",
    "# 数据按照大陆子dataframe分组 (命名为X)\n",
    "# 每个大陆制作一个跟踪对象并附加到Data对象\n",
    "\n",
    "for continent, X, in df.groupby('Continent'):\n",
    "    sizes = X['Population']   #get population array\n",
    "    color = colors[continent] #get color\n",
    "    \n",
    "    data.append(make_trace(X, continent, sizes, color))\n",
    "    \n",
    "# Set plot and axis titles\n",
    "title = \"Life expectancy vs GNP from MySQL world database (bubble chart)\"\n",
    "x_title = \"Gross National Product\"\n",
    "y_title = \"Life Expectancy [in years]\"\n",
    "\n",
    "# Define a dictionary of axis style options\n",
    "axis_style = dict(  \n",
    "    type='log',\n",
    "    zeroline=False,       # remove thick zero line\n",
    "    gridcolor='#FFFFFF',  # white grid lines\n",
    "    ticks='outside',      # draw ticks outside axes \n",
    "    ticklen=8,            # tick length\n",
    "    tickwidth=1.5         #   and width\n",
    ")\n",
    "\n",
    "# Make layout object\n",
    "layout = Layout(\n",
    "    title=title,             # set plot title\n",
    "    plot_bgcolor='#EFECEA',  # set plot color to grey\n",
    "    hovermode=\"closest\",\n",
    "    xaxis=XAxis(\n",
    "        axis_style,      # add axis style dictionary\n",
    "        title=x_title,   # x-axis title\n",
    "        range=[2.0,7.2], # log of min and max x limits\n",
    "    ),\n",
    "    yaxis=YAxis(\n",
    "        axis_style,      # add axis style dictionary\n",
    "        title=y_title,   # y-axis title\n",
    "    )\n",
    ")\n",
    "\n",
    "# Make Figure object\n",
    "fig = Figure(data=data, layout=layout)\n",
    "\n",
    "# (@) Send to Plotly and show in notebook\n",
    "py.iplot(fig, filename='s3_life-gdp')\n",
    "    "
   ]
  },
  {
   "cell_type": "code",
   "execution_count": 50,
   "metadata": {
    "collapsed": false
   },
   "outputs": [
    {
     "data": {
      "text/html": [
       "<iframe id=\"igraph\" scrolling=\"no\" style=\"border:none;\" seamless=\"seamless\" src=\"https://plot.ly/~walsky/2.embed\" height=\"525px\" width=\"100%\"></iframe>"
      ],
      "text/plain": [
       "<plotly.tools.PlotlyDisplay object>"
      ]
     },
     "execution_count": 50,
     "metadata": {},
     "output_type": "execute_result"
    }
   ],
   "source": [
    "# (!) Set 'size' values to be proportional to rendered area,\n",
    "#     instead of diameter. This makes the range of bubble sizes smaller\n",
    "sizemode='area'       \n",
    "\n",
    "# (!) Set a reference for 'size' values (i.e. a population-to-pixel scaling).\n",
    "#     Here the max bubble area will be on the order of 100 pixels\n",
    "sizeref=df['Population'].max()/1e2**2\n",
    "\n",
    "colors = {\n",
    "    'Asia':\"rgb(255,65,54)\", \n",
    "    'Europe':\"rgb(133,20,75)\",\n",
    "    'Africa':\"rgb(0,116,217)\",\n",
    "    'North America':\"rgb(255,133,27)\",\n",
    "    'South America':\"rgb(23,190,207)\",\n",
    "    'Antarctica':\"rgb(61,153,112)\",\n",
    "    'Oceania':\"rgb(255,220,0)\",\n",
    "}\n",
    "\n",
    "# Define a hover-text generating function (returns a list of strings)\n",
    "def make_text(X):\n",
    "    return 'Country: %s\\\n",
    "    <br>Life Expectancy: %s years\\\n",
    "    <br>Population: %s million'\\\n",
    "    % (X['Name'], X['LifeExpectancy'], X['Population']/1e6)  \n",
    "\n",
    "# Define a trace-generating function (returns a Scatter object)\n",
    "def make_trace(X, continent, sizes, color):  \n",
    "    return Scatter(\n",
    "        x=X['GNP'],  # GDP on the x-xaxis\n",
    "        y=X['LifeExpectancy'],    # life Exp on th y-axis\n",
    "        name=continent,    # label continent names on hover\n",
    "        mode='markers',    # (!) point markers only on this plot\n",
    "        text=X.apply(make_text, axis=1).tolist(),\n",
    "        marker= Marker(\n",
    "            color=color,           # marker color\n",
    "            size=sizes,            # (!) marker sizes (sizes is a list)\n",
    "            sizeref=sizeref,       # link sizeref\n",
    "            sizemode=sizemode,     # link sizemode\n",
    "            opacity=0.6,           # (!) partly transparent markers\n",
    "            line= Line(width=3,color=\"white\")  # marker borders\n",
    "        )\n",
    "    )\n",
    "\n",
    "# Initialize data object \n",
    "data = Data()\n",
    "\n",
    "# Group data frame by continent sub-dataframe (named X), \n",
    "#   make one trace object per continent and append to data object\n",
    "for continent, X in df.groupby('Continent'):\n",
    "    \n",
    "    sizes = X['Population']                 # get population array \n",
    "    color = colors[continent]               # get bubble color\n",
    "    \n",
    "    data.append(\n",
    "        make_trace(X, continent, sizes, color)  # append trace to data object\n",
    "    ) \n",
    "\n",
    "    # Set plot and axis titles\n",
    "title = \"Life expectancy vs GNP from MySQL world database (bubble chart)\"\n",
    "x_title = \"Gross National Product\"\n",
    "y_title = \"Life Expectancy [in years]\"\n",
    "\n",
    "# Define a dictionary of axis style options\n",
    "axis_style = dict(  \n",
    "    type='log',\n",
    "    zeroline=False,       # remove thick zero line\n",
    "    gridcolor='#FFFFFF',  # white grid lines\n",
    "    ticks='outside',      # draw ticks outside axes \n",
    "    ticklen=8,            # tick length\n",
    "    tickwidth=1.5         #   and width\n",
    ")\n",
    "\n",
    "# Make layout object\n",
    "layout = Layout(\n",
    "    title=title,             # set plot title\n",
    "    plot_bgcolor='#EFECEA',  # set plot color to grey\n",
    "    hovermode=\"closest\",\n",
    "    xaxis=XAxis(\n",
    "        axis_style,      # add axis style dictionary\n",
    "        title=x_title,   # x-axis title\n",
    "        range=[2.0,7.2], # log of min and max x limits\n",
    "    ),\n",
    "    yaxis=YAxis(\n",
    "        axis_style,      # add axis style dictionary\n",
    "        title=y_title,   # y-axis title\n",
    "    )\n",
    ")\n",
    "\n",
    "# Make Figure object\n",
    "fig = Figure(data=data, layout=layout)\n",
    "\n",
    "# (@) Send to Plotly and show in notebook\n",
    "py.iplot(fig, filename='s3_life-gdp')"
   ]
  },
  {
   "cell_type": "code",
   "execution_count": null,
   "metadata": {
    "collapsed": true
   },
   "outputs": [],
   "source": []
  }
 ],
 "metadata": {
  "anaconda-cloud": {},
  "kernelspec": {
   "display_name": "Python [Root]",
   "language": "python",
   "name": "Python [Root]"
  },
  "language_info": {
   "codemirror_mode": {
    "name": "ipython",
    "version": 3
   },
   "file_extension": ".py",
   "mimetype": "text/x-python",
   "name": "python",
   "nbconvert_exporter": "python",
   "pygments_lexer": "ipython3",
   "version": "3.5.2"
  }
 },
 "nbformat": 4,
 "nbformat_minor": 0
}
